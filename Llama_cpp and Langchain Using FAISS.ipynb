{
 "cells": [
  {
   "cell_type": "markdown",
   "id": "c60426dc-b9a8-4124-b925-afbc688744d3",
   "metadata": {},
   "source": [
    "# Importing Packages"
   ]
  },
  {
   "cell_type": "code",
   "execution_count": 1,
   "id": "77c2aa74-1002-4fac-b6ae-10a5d1b6906f",
   "metadata": {},
   "outputs": [],
   "source": [
    "from langchain.llms import LlamaCpp\n",
    "from langchain import PromptTemplate, LLMChain\n",
    "from langchain.callbacks.manager import CallbackManager\n",
    "from langchain.callbacks.streaming_stdout import (\n",
    "    StreamingStdOutCallbackHandler\n",
    ")\n",
    "from langchain.vectorstores import FAISS\n",
    "from langchain.embeddings import HuggingFaceInstructEmbeddings\n",
    "from langchain.document_loaders import UnstructuredFileLoader\n",
    "from langchain.text_splitter import RecursiveCharacterTextSplitter\n",
    "import torch\n",
    "DEVICE = \"cuda:0\" if torch.cuda.is_available() else \"cpu\""
   ]
  },
  {
   "cell_type": "code",
   "execution_count": 2,
   "id": "8e394fc7-cefc-45dd-b859-4f6c4cc18f7e",
   "metadata": {},
   "outputs": [],
   "source": [
    "from langchain.document_loaders import PyPDFDirectoryLoader\n",
    "from langchain.text_splitter import RecursiveCharacterTextSplitter"
   ]
  },
  {
   "cell_type": "code",
   "execution_count": 3,
   "id": "2959b8cc-ff58-46a7-a719-c9987ad5364e",
   "metadata": {},
   "outputs": [],
   "source": [
    "from langchain.vectorstores import Chroma"
   ]
  },
  {
   "cell_type": "markdown",
   "id": "401e11a3-50e7-4f62-a051-4bd4de7222fb",
   "metadata": {},
   "source": [
    "# Loading Embeddings Engine"
   ]
  },
  {
   "cell_type": "code",
   "execution_count": 4,
   "id": "fb797f2d-ed5d-4fa8-a752-add5f5a6bcb7",
   "metadata": {},
   "outputs": [
    {
     "name": "stderr",
     "output_type": "stream",
     "text": [
      "C:\\Users\\Administrator\\anaconda3\\envs\\autogptq\\lib\\site-packages\\InstructorEmbedding\\instructor.py:7: TqdmExperimentalWarning: Using `tqdm.autonotebook.tqdm` in notebook mode. Use `tqdm.tqdm` instead to force console mode (e.g. in jupyter console)\n",
      "  from tqdm.autonotebook import trange\n"
     ]
    },
    {
     "name": "stdout",
     "output_type": "stream",
     "text": [
      "load INSTRUCTOR_Transformer\n",
      "max_seq_length  512\n"
     ]
    }
   ],
   "source": [
    "# embedding engine\n",
    "hf_embedding = HuggingFaceInstructEmbeddings()"
   ]
  },
  {
   "cell_type": "markdown",
   "id": "c16ed649-4a82-4b60-accc-58148953ac42",
   "metadata": {},
   "source": [
    "# Initialize Knowledge base Resources"
   ]
  },
  {
   "cell_type": "code",
   "execution_count": 5,
   "id": "2ad0c41f-3e08-4883-942b-c639fa6bb791",
   "metadata": {},
   "outputs": [
    {
     "name": "stdout",
     "output_type": "stream",
     "text": [
      "CPU times: total: 7min 4s\n",
      "Wall time: 7min 9s\n"
     ]
    }
   ],
   "source": [
    "%%time\n",
    "knowledge_base_loader = PyPDFDirectoryLoader(\"pdfs\")\n",
    "knowledge_base = knowledge_base_loader.load()"
   ]
  },
  {
   "cell_type": "code",
   "execution_count": 6,
   "id": "d2d5ce98-bcf0-448b-8af5-330addd9373b",
   "metadata": {},
   "outputs": [
    {
     "data": {
      "text/plain": [
       "25364"
      ]
     },
     "execution_count": 6,
     "metadata": {},
     "output_type": "execute_result"
    }
   ],
   "source": [
    "knowledge_base_text_splitter = RecursiveCharacterTextSplitter(chunk_size=1000, chunk_overlap=50)\n",
    "knowledge_base_texts = knowledge_base_text_splitter.split_documents(knowledge_base)\n",
    "len(knowledge_base_texts)"
   ]
  },
  {
   "cell_type": "markdown",
   "id": "aa04cb0b-22c2-4a41-9a6b-cfa5474f196d",
   "metadata": {},
   "source": [
    "# Saving Knowledge base"
   ]
  },
  {
   "cell_type": "code",
   "execution_count": 7,
   "id": "12cf520c-51eb-4511-80ee-bcfaf39438fe",
   "metadata": {},
   "outputs": [
    {
     "name": "stdout",
     "output_type": "stream",
     "text": [
      "CPU times: total: 21min 2s\n",
      "Wall time: 20min 45s\n"
     ]
    }
   ],
   "source": [
    "%%time\n",
    "db = FAISS.from_documents(knowledge_base_texts, hf_embedding)\n",
    "\n",
    "# save embeddings in local directory\n",
    "db.save_local(\"faiss_knowledge_base\")"
   ]
  },
  {
   "cell_type": "markdown",
   "id": "d07ed278-0c3d-43d7-ad87-d6395dbf12a6",
   "metadata": {},
   "source": [
    "# Loading Local Knowledge Base"
   ]
  },
  {
   "cell_type": "code",
   "execution_count": 49,
   "id": "a7889ebe-8a20-4633-a626-8252420c4143",
   "metadata": {},
   "outputs": [],
   "source": [
    "# load from local\n",
    "db = FAISS.load_local(\"faiss_patient_data_with_resources_1.2/\", embeddings=hf_embedding)"
   ]
  },
  {
   "cell_type": "markdown",
   "id": "1649e394-cd4e-4882-a8c5-0bf6d5c6f152",
   "metadata": {},
   "source": [
    "# Loading Model"
   ]
  },
  {
   "cell_type": "code",
   "execution_count": 50,
   "id": "32146813-9fd2-48ec-a3b8-95a09bf09577",
   "metadata": {},
   "outputs": [],
   "source": [
    "template = \"\"\"Question: {question}\n",
    "\n",
    "Answer:\"\"\"\n",
    "\n",
    "prompt = PromptTemplate(template=template, input_variables=[\"question\"])"
   ]
  },
  {
   "cell_type": "code",
   "execution_count": 51,
   "id": "b19b41fe-738a-4429-9fb9-dc4ea9dd3eff",
   "metadata": {},
   "outputs": [],
   "source": [
    "callback_manager = CallbackManager([StreamingStdOutCallbackHandler()])"
   ]
  },
  {
   "cell_type": "code",
   "execution_count": 8,
   "id": "a5d81c79-b307-4cf8-a1eb-bdd70cf6e772",
   "metadata": {},
   "outputs": [
    {
     "name": "stderr",
     "output_type": "stream",
     "text": [
      "AVX = 1 | AVX_VNNI = 0 | AVX2 = 1 | AVX512 = 0 | AVX512_VBMI = 0 | AVX512_VNNI = 0 | FMA = 1 | NEON = 0 | ARM_FMA = 0 | F16C = 1 | FP16_VA = 0 | WASM_SIMD = 0 | BLAS = 1 | SSE3 = 1 | SSSE3 = 0 | VSX = 0 | \n"
     ]
    }
   ],
   "source": [
    "llm = LlamaCpp(\n",
    "    # model_path=\"llama-2-7b-chat.ggmlv3.q2_K.bin\",\n",
    "    model_path=\"C:/Users/Alaa AI/Python Projects/Chatbots/GPT by me/llama-2-7b-chat.Q4_K_M.gguf\",\n",
    "    n_ctx=40000,\n",
    "    n_gpu_layers=512,\n",
    "    n_batch=30,\n",
    "    callback_manager=callback_manager,\n",
    "    temperature = 0.1,\n",
    "    max_tokens = 30000,\n",
    "    n_parts=1,\n",
    ")"
   ]
  },
  {
   "cell_type": "code",
   "execution_count": 19,
   "id": "340a7ae1-840a-40c6-ac72-258aedfbc78b",
   "metadata": {},
   "outputs": [],
   "source": [
    "llm_chain = LLMChain(prompt=prompt, llm=llm)"
   ]
  },
  {
   "cell_type": "markdown",
   "id": "6010bb9b-f0ba-4eed-a52e-6f99f7c6414a",
   "metadata": {},
   "source": [
    "# Create a Query"
   ]
  },
  {
   "cell_type": "code",
   "execution_count": 42,
   "id": "9f9eadcf-fb26-440f-93b0-8404a1afda7c",
   "metadata": {},
   "outputs": [],
   "source": [
    "query = \"what is the date of birth of the examinee 'O'\"\n",
    "search = db.similarity_search(query, k=2)"
   ]
  },
  {
   "cell_type": "code",
   "execution_count": 55,
   "id": "b3ea1774-fc75-41a2-a69c-ac47a7c4e85c",
   "metadata": {},
   "outputs": [],
   "source": [
    "query = \" As an Experienced Doctor Give me an organized detailed report form about the examinee 'Ahmed Khaleel' : which contains Examinee Data in Details , Diagnostic Scale Results in Details and as an experienced doctor , Executive Function Scale Results in Details and as an experienced doctor in Details and as an experienced doctor, Learning Disability Assessment in Details and as an experienced doctor, Interview and case History Insights in details, perliminary Diagnosis in Details and as an experienced doctor, Proposed Intervention program in details, Medication Suggestions with doses and considerations for medication management, Professional Review Notes in details and as an experienced Doctor\"\n",
    "# query = \"based on provided context Give me Data about the Examinee 'O' details Give me in organized form The Diagnostic Scale Results as number 1 , Executive Function Scale Results as number 2 , learning Disability assessment as number 3 , interview and case history insights as number 4 , preliminary diagnosis as number 5 , proposed intervention program as number 6 , medication suggestions as number 7 , and professional review notes as number 8\"\n",
    "# query  = \"Give me a medication suggestions in an organized form with details for each medic which will help the examinee 'O' to be good and recover with doses and side effects as an experienced doctor in details\"\n",
    "search = db.similarity_search(query, k=2)"
   ]
  },
  {
   "cell_type": "markdown",
   "id": "bf85038d-ee30-411e-a800-6836353bd934",
   "metadata": {},
   "source": [
    "# Creating Prompt Template"
   ]
  },
  {
   "cell_type": "code",
   "execution_count": 56,
   "id": "fe5c3d5b-55b8-4a47-bc04-e7cc70f15ffc",
   "metadata": {},
   "outputs": [],
   "source": [
    "# template = '''Context: {context}\n",
    "\n",
    "# Based on Context provide me answer for following question\n",
    "# Question: {question}\n",
    "\n",
    "# Tell me the information about the fact. The answer should be from context only\n",
    "# do not use general knowledge to answer the query'''\n",
    "template = '''Context: {context}\n",
    "\n",
    "Based on Context provide me answer for following question\n",
    "Question: {question}\n",
    "\n",
    "Tell me the information about the fact. The answer should be from context\n",
    "use general knowledge to answer the query'''\n",
    "prompt = PromptTemplate(input_variables=[\"context\", \"question\"], template= template)\n",
    "final_prompt = prompt.format(question=query, context=search)"
   ]
  },
  {
   "cell_type": "code",
   "execution_count": 57,
   "id": "c60ee54c-07b4-41cb-b8fc-f6fdf6094eee",
   "metadata": {},
   "outputs": [
    {
     "name": "stderr",
     "output_type": "stream",
     "text": [
      "Llama.generate: prefix-match hit\n"
     ]
    },
    {
     "name": "stdout",
     "output_type": "stream",
     "text": [
      " Based on the provided context, here is an organized detailed report for Ahmed Khaleel:\n",
      "Examinee Data:\n",
      "* Name: Ahmed Khaleel\n",
      "* Date of Birth: 2/2/2016\n",
      "* Gender: Male\n",
      "* Nationality: Egyptian\n",
      "* Language(s) spoken at home: Arabic, English\n",
      "* Education level: High School Diploma\n",
      "* Occupation: None (at the time of assessment)\n",
      "\n",
      "Diagnostic Scale Results:\n",
      "* ADHD Diagnostic Scale (ADHD-RS): 30/50 = 6.0 (mild symptoms of inattention and hyperactivity-impulsivity)\n",
      "* Conners' Continuous Performance Task (CPT): 148/200 = 74% (average performance, with some omissions and errors)\n",
      "* Wechsler Adult Intelligence Scale (WAIS): Verbal Comprehension Index (VCI): 95, Fluid Reasoning Index (FRI): 83, Processing Speed Index (PSI): 87 (average intelligence, with strengths in verbal comprehension and weaknesses in processing speed)\n",
      "* Behavior Rating Inventory of Executive Function (BRIEF-A): Total score: 45 (moderate levels of executive function difficulties)\n",
      "\n",
      "Executive Function Scale Results:\n",
      "* Trail Making Test Part B (TMT-B): 12.0 seconds (average performance, with some errors)\n",
      "* Stroop Color Word Test (SCWT): 8.5 minutes (average performance, with some interference)\n",
      "* Wisconsin Card Sorting Test (WCST): 16 correct/24 incorrect (moderate levels of impulsivity and difficulty with task switching)\n",
      "\n",
      "Learning Disability Assessment:\n",
      "* Wechsler Adult Reading Subtest (WARS): 75 (average reading level)\n",
      "* Wechsler Adult Spelling Subtest (WASP): 60 (average spelling ability)\n",
      "* Woodcock-Johnson III Tests of Achievement (WJ-III ACH): Reading Comprehension: 85, Mathematics: 70 (average academic achievement levels)\n",
      "\n",
      "Interview and Case History Insights:\n",
      "* Ahmed reports difficulty with organization, time management, and self-regulation.\n",
      "* He experiences frequent distractibility and has difficulty sustaining attention during tasks.\n",
      "* Ahmed also reports feeling restless and fidgety, and has a tendency to interrupt others during conversations.\n",
      "* He experiences anxiety and depression, which can exacerbate his ADHD symptoms.\n",
      "\n",
      "Preliminary Diagnosis: Attention Deficit Hyperactivity Disorder (ADHD), Combined Type\n",
      "\n",
      "Proposed Intervention Program:\n",
      "* Medication: Consider starting Ahmed on a stimulant medication (e.g., Ritalin) to help manage his ADHD symptoms.\n",
      "* Behavioral Therapy: Implement a structured treatment plan that includes breaks, rewards, and time management strategies to help Ahmed stay organized and focused.\n",
      "* Cognitive-Behavioral Therapy (CBT): Use CBT techniques to help Ahmed manage his anxiety and depression, which can contribute to his ADHD symptoms.\n",
      "\n",
      "Medication Suggestions:\n",
      "* Ritalin (methylphenidate): 5 mg orally once daily in the morning, increasing as needed to a maximum dose of 20 mg per day.\n",
      "* Consider adding a non-stimulant medication (e.g., Strattera) if the stimulant medication is not effective or well-tolerated.\n",
      "\n",
      "Professional Review Notes:\n",
      "* Ahmed's ADHD symptoms are primarily inattentive, with some hyperactive-impulsivity features.\n",
      "* His executive function difficulties may contribute to his difficulty with organization and time management.\n",
      "* Ahmed's anxiety and depression may exacerbate his ADHD symptoms and impact his academic performance.\n",
      "\n",
      "As an experienced doctor, I recommend the following:\n",
      "* Continuous monitoring of Ahmed's symptoms and medication side effects to ensure optimal treatment.\n",
      "* Regular follow-up appointments to assess progress and adjust the intervention program as needed.\n",
      "* Collaboration with Ahmed's teachers and family members to implement a comprehensive treatment plan that addresses his ADHD symptoms and other mental health concerns."
     ]
    },
    {
     "data": {
      "text/plain": [
       "\" Based on the provided context, here is an organized detailed report for Ahmed Khaleel:\\nExaminee Data:\\n* Name: Ahmed Khaleel\\n* Date of Birth: 2/2/2016\\n* Gender: Male\\n* Nationality: Egyptian\\n* Language(s) spoken at home: Arabic, English\\n* Education level: High School Diploma\\n* Occupation: None (at the time of assessment)\\n\\nDiagnostic Scale Results:\\n* ADHD Diagnostic Scale (ADHD-RS): 30/50 = 6.0 (mild symptoms of inattention and hyperactivity-impulsivity)\\n* Conners' Continuous Performance Task (CPT): 148/200 = 74% (average performance, with some omissions and errors)\\n* Wechsler Adult Intelligence Scale (WAIS): Verbal Comprehension Index (VCI): 95, Fluid Reasoning Index (FRI): 83, Processing Speed Index (PSI): 87 (average intelligence, with strengths in verbal comprehension and weaknesses in processing speed)\\n* Behavior Rating Inventory of Executive Function (BRIEF-A): Total score: 45 (moderate levels of executive function difficulties)\\n\\nExecutive Function Scale Results:\\n* Trail Making Test Part B (TMT-B): 12.0 seconds (average performance, with some errors)\\n* Stroop Color Word Test (SCWT): 8.5 minutes (average performance, with some interference)\\n* Wisconsin Card Sorting Test (WCST): 16 correct/24 incorrect (moderate levels of impulsivity and difficulty with task switching)\\n\\nLearning Disability Assessment:\\n* Wechsler Adult Reading Subtest (WARS): 75 (average reading level)\\n* Wechsler Adult Spelling Subtest (WASP): 60 (average spelling ability)\\n* Woodcock-Johnson III Tests of Achievement (WJ-III ACH): Reading Comprehension: 85, Mathematics: 70 (average academic achievement levels)\\n\\nInterview and Case History Insights:\\n* Ahmed reports difficulty with organization, time management, and self-regulation.\\n* He experiences frequent distractibility and has difficulty sustaining attention during tasks.\\n* Ahmed also reports feeling restless and fidgety, and has a tendency to interrupt others during conversations.\\n* He experiences anxiety and depression, which can exacerbate his ADHD symptoms.\\n\\nPreliminary Diagnosis: Attention Deficit Hyperactivity Disorder (ADHD), Combined Type\\n\\nProposed Intervention Program:\\n* Medication: Consider starting Ahmed on a stimulant medication (e.g., Ritalin) to help manage his ADHD symptoms.\\n* Behavioral Therapy: Implement a structured treatment plan that includes breaks, rewards, and time management strategies to help Ahmed stay organized and focused.\\n* Cognitive-Behavioral Therapy (CBT): Use CBT techniques to help Ahmed manage his anxiety and depression, which can contribute to his ADHD symptoms.\\n\\nMedication Suggestions:\\n* Ritalin (methylphenidate): 5 mg orally once daily in the morning, increasing as needed to a maximum dose of 20 mg per day.\\n* Consider adding a non-stimulant medication (e.g., Strattera) if the stimulant medication is not effective or well-tolerated.\\n\\nProfessional Review Notes:\\n* Ahmed's ADHD symptoms are primarily inattentive, with some hyperactive-impulsivity features.\\n* His executive function difficulties may contribute to his difficulty with organization and time management.\\n* Ahmed's anxiety and depression may exacerbate his ADHD symptoms and impact his academic performance.\\n\\nAs an experienced doctor, I recommend the following:\\n* Continuous monitoring of Ahmed's symptoms and medication side effects to ensure optimal treatment.\\n* Regular follow-up appointments to assess progress and adjust the intervention program as needed.\\n* Collaboration with Ahmed's teachers and family members to implement a comprehensive treatment plan that addresses his ADHD symptoms and other mental health concerns.\""
      ]
     },
     "execution_count": 57,
     "metadata": {},
     "output_type": "execute_result"
    }
   ],
   "source": [
    "llm_chain.run(final_prompt)"
   ]
  },
  {
   "cell_type": "code",
   "execution_count": 54,
   "id": "39e2c76b-c76e-4490-ae44-8fed0c1bb940",
   "metadata": {},
   "outputs": [
    {
     "name": "stderr",
     "output_type": "stream",
     "text": [
      "Llama.generate: prefix-match hit\n"
     ]
    },
    {
     "name": "stdout",
     "output_type": "stream",
     "text": [
      " Based on the provided context, here is a detailed report for the examinee \"Ahmed Khaleel\":\n",
      "Examinee Data:\n",
      "* Name: Ahmed Khaleel\n",
      "* Date of Birth: 2/2/2016\n",
      "* Gender: Male\n",
      "* Ethnicity: Arabic\n",
      "* Nationality: Egyptian\n",
      "* Language(s) spoken at home: Arabic and English\n",
      "* Religion: Islam\n",
      "* Marital Status: Single\n",
      "* Occupation: Student\n",
      "* Education level: High School\n",
      "\n",
      "Diagnostic Scale Results:\n",
      "\n",
      "* Attention Deficit Hyperactivity Disorder (ADHD):\n",
      "\t+ Total Score: 72/82 = 87%\n",
      "\t+ Subscale scores:\n",
      "\t\t- Inattentive: 35/40 = 87.5%\n",
      "\t\t- Hyperactive Impulsive: 37/40 = 92.5%\n",
      "\t\t- Total Score: 72/82 = 87%\n",
      "* Executive Function Scale:\n",
      "\t+ Total Score: 77/90 = 85.5%\n",
      "\t+ Subscale scores:\n",
      "\t\t- Shift: 34/40 = 85%\n",
      "\t\t- Emotional Control: 36/40 = 85%\n",
      "\t\t- Flexibility: 32/40 = 75%\n",
      "\t\t- Total Score: 77/90 = 85.5%\n",
      "\n",
      "Learning Disability Assessment:\n",
      "* Based on the results of the ADHD and Executive Function scales, it is unlikely that Ahmed has a significant learning disability. However, further assessment may be necessary to rule out any potential learning disabilities.\n",
      "\n",
      "Interview and Case History Insights:\n",
      "* Ahmed reported feeling overwhelmed with schoolwork and struggles with organization and time management.\n",
      "* He also mentioned experiencing difficulty in paying attention during lectures and finding it hard to sit still for long periods of time.\n",
      "* Ahmed's parents reported that he has been struggling with these issues since elementary school and that they have tried various strategies to help him, including medication and behavioral therapy.\n",
      "\n",
      "Preliminary Diagnosis:\n",
      "* Based on the results of the ADHD and Executive Function scales, it is likely that Ahmed has Attention Deficit Hyperactivity Disorder (ADHD).\n",
      "* However, further assessment is necessary to rule out any potential learning disabilities or other mental health conditions.\n",
      "\n",
      "Proposed Intervention Program:\n",
      "* Behavioral therapy to help Ahmed manage his ADHD symptoms and improve his organization and time management skills.\n",
      "* Medication (e.g., methylphenidate) to help manage ADHD symptoms, with close monitoring of side effects and adjustments as needed.\n",
      "* Accommodations in the classroom, such as extra time to complete assignments or the option to take breaks when needed.\n",
      "\n",
      "Medication Suggestions:\n",
      "* Methylphenidate (Ritalin) at a starting dose of 0.5 mg/kg per day, taken orally once in the morning.\n",
      "* Gradually increase the dose as needed, up to a maximum of 1.0 mg/kg per day.\n",
      "* Monitor for side effects and adjust the dose as needed.\n",
      "\n",
      "Professional Review Notes:\n",
      "* This report provides an overview of Ahmed's cognitive and behavioral functioning based on the results of the ADHD and Executive Function scales.\n",
      "* Further assessment is necessary to rule out any potential learning disabilities or other mental health conditions.\n",
      "* The proposed intervention program includes behavioral therapy, medication, and accommodations in the classroom.\n",
      "* Close monitoring of Ahmed's progress and adjustments to the intervention program as needed.\n",
      "\n",
      "As an experienced doctor, I would recommend that Ahmed's case be reviewed regularly to ensure that his treatment plan is effective and to make any necessary adjustments. Additionally, I would suggest that Ahmed's parents be involved in the decision-making process regarding his treatment and that they receive regular updates on his progress."
     ]
    },
    {
     "data": {
      "text/plain": [
       "' Based on the provided context, here is a detailed report for the examinee \"Ahmed Khaleel\":\\nExaminee Data:\\n* Name: Ahmed Khaleel\\n* Date of Birth: 2/2/2016\\n* Gender: Male\\n* Ethnicity: Arabic\\n* Nationality: Egyptian\\n* Language(s) spoken at home: Arabic and English\\n* Religion: Islam\\n* Marital Status: Single\\n* Occupation: Student\\n* Education level: High School\\n\\nDiagnostic Scale Results:\\n\\n* Attention Deficit Hyperactivity Disorder (ADHD):\\n\\t+ Total Score: 72/82 = 87%\\n\\t+ Subscale scores:\\n\\t\\t- Inattentive: 35/40 = 87.5%\\n\\t\\t- Hyperactive Impulsive: 37/40 = 92.5%\\n\\t\\t- Total Score: 72/82 = 87%\\n* Executive Function Scale:\\n\\t+ Total Score: 77/90 = 85.5%\\n\\t+ Subscale scores:\\n\\t\\t- Shift: 34/40 = 85%\\n\\t\\t- Emotional Control: 36/40 = 85%\\n\\t\\t- Flexibility: 32/40 = 75%\\n\\t\\t- Total Score: 77/90 = 85.5%\\n\\nLearning Disability Assessment:\\n* Based on the results of the ADHD and Executive Function scales, it is unlikely that Ahmed has a significant learning disability. However, further assessment may be necessary to rule out any potential learning disabilities.\\n\\nInterview and Case History Insights:\\n* Ahmed reported feeling overwhelmed with schoolwork and struggles with organization and time management.\\n* He also mentioned experiencing difficulty in paying attention during lectures and finding it hard to sit still for long periods of time.\\n* Ahmed\\'s parents reported that he has been struggling with these issues since elementary school and that they have tried various strategies to help him, including medication and behavioral therapy.\\n\\nPreliminary Diagnosis:\\n* Based on the results of the ADHD and Executive Function scales, it is likely that Ahmed has Attention Deficit Hyperactivity Disorder (ADHD).\\n* However, further assessment is necessary to rule out any potential learning disabilities or other mental health conditions.\\n\\nProposed Intervention Program:\\n* Behavioral therapy to help Ahmed manage his ADHD symptoms and improve his organization and time management skills.\\n* Medication (e.g., methylphenidate) to help manage ADHD symptoms, with close monitoring of side effects and adjustments as needed.\\n* Accommodations in the classroom, such as extra time to complete assignments or the option to take breaks when needed.\\n\\nMedication Suggestions:\\n* Methylphenidate (Ritalin) at a starting dose of 0.5 mg/kg per day, taken orally once in the morning.\\n* Gradually increase the dose as needed, up to a maximum of 1.0 mg/kg per day.\\n* Monitor for side effects and adjust the dose as needed.\\n\\nProfessional Review Notes:\\n* This report provides an overview of Ahmed\\'s cognitive and behavioral functioning based on the results of the ADHD and Executive Function scales.\\n* Further assessment is necessary to rule out any potential learning disabilities or other mental health conditions.\\n* The proposed intervention program includes behavioral therapy, medication, and accommodations in the classroom.\\n* Close monitoring of Ahmed\\'s progress and adjustments to the intervention program as needed.\\n\\nAs an experienced doctor, I would recommend that Ahmed\\'s case be reviewed regularly to ensure that his treatment plan is effective and to make any necessary adjustments. Additionally, I would suggest that Ahmed\\'s parents be involved in the decision-making process regarding his treatment and that they receive regular updates on his progress.'"
      ]
     },
     "execution_count": 54,
     "metadata": {},
     "output_type": "execute_result"
    }
   ],
   "source": [
    "llm_chain.run(final_prompt)"
   ]
  },
  {
   "cell_type": "code",
   "execution_count": null,
   "id": "7b880358-7ac6-4671-bc46-6878d03d6b31",
   "metadata": {},
   "outputs": [],
   "source": []
  }
 ],
 "metadata": {
  "kernelspec": {
   "display_name": "Python 3 (ipykernel)",
   "language": "python",
   "name": "python3"
  },
  "language_info": {
   "codemirror_mode": {
    "name": "ipython",
    "version": 3
   },
   "file_extension": ".py",
   "mimetype": "text/x-python",
   "name": "python",
   "nbconvert_exporter": "python",
   "pygments_lexer": "ipython3",
   "version": "3.10.13"
  }
 },
 "nbformat": 4,
 "nbformat_minor": 5
}
